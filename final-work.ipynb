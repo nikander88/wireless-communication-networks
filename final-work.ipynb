{
  "cells": [
    {
      "cell_type": "markdown",
      "source": "# BL40A2030 Wireless Communication Networks\n\n## Final work\n\n### Author: [Niki Malmsten]",
      "metadata": {
        "collapsed": true,
        "cell_id": "00000-6653a252-ebdf-41ab-9d51-953731bfef29",
        "deepnote_cell_type": "markdown"
      }
    },
    {
      "cell_type": "markdown",
      "source": "**The goal of the final work is to compute the Transmission Capacity (i.e. the highest achievable Spatial Throughput considering a maximum acceptable outage probability constraint), also considering aspects related to queue stability. The final work will be step-by-step.**\n\nConsider a bipolar network similar to the one presented in weeks 6 and 7, but now considering a slotted-ALOHA-style of medium access. \n\n- Network density $\\lambda>0$\n- Path-loss exponent $\\alpha>2$\n- Rayleigh fading, leading to a constant $\\kappa$\n- SIR threshold $\\beta>0$\n- TX-RX distance $d\\geq1$\n- Slotted Aloha access probability (independent for individual TXs): $p$\n- Outage probability = 1 - success probability: $1 - e^{- \\kappa p \\lambda \\pi d^2 \\beta^{2/\\alpha}} = 1 - P_s$\n- Spatial throughput: $p \\times \\lambda \\times  P_s \\times \\log_2(1+\\beta)$\n- Maximum acceptable outage probability: $\\epsilon$\n\n*Note: When the slotted-ALOHA-style MAC is used, the original Poisson point process is thinned and the process of active transmitters in the networks becomes $p\\lambda$ active nodes per square-meter.*\n\n(A)  Plot: $p \\times \\lambda \\times  P_s \\times \\log_2(1+\\beta)$ in terms of the access probability $p$, considering that $P_s = 1-\\epsilon$. Assume: $\\alpha=4$, $d=1$, $\\epsilon = 0.05$ and $\\lambda=0.02$.\n\n*Hint: First proceed with the algebraic manipulation of $P_s = 1-\\epsilon$ to find the value of $\\beta$ as a function of the other variables. Then, you ended up in a new equation.*\n\n(B) Find the value of $p$ that optimizes the spatial throughput.\n\n*Hint: It might be possible that sympy cannot find the equation analytically so a numerical solution is also acceptable (see tutorial from week 7).*\n\n(C) Test the result from (B) using the numerical values from (A) by making the plot including the optimal spatial throuhgput value. Verify also for $\\lambda=0.01$ and $\\lambda=0.025$.\n\n(D) What is the transmission capacity of this network (i.e. the maximum achievable spatial throughput)? \n\n(E) Consider that the TXs have one queue where packets arrive at each time slot with a given probability $q$ (Bernoulli arrivals). What is the necessary relation between $p$ and $q$ that guarantees queue stability (i.e. the queue size is not growing to infinity with time). To answer this question you need to simulate this queue considering 3 conditions (i) $q<p$ by setting $q = p - 0.1$, (ii) $q=p$ and (iii) $q>p$ by setting $q = p + 0.1$ for the value of $p$ found in (B) for 10000 time-slots (time-steps) and evaluate the worst case delay.\n\n*Hint: The packets will arrive with probability $q$ each time slot, while packets will leave with probability $p$ (similar to thowning a coin experiment with biased probability). This queue is similar to the \"naive\" simple queue approach taken in week 1 but now with Bernoulli arrivals and departures. To generate a sequence of Bernoulli, you can use the Binomial random number generator (numpy.random.binomial).*\n\n(F) Write a short comment about what would you expect to happen with the queue of the TXs if:\n\n- Restransmissions are allowed\n- CSMA protocol is used\n- Queues have a limited size\n",
      "metadata": {
        "cell_id": "00001-e2e58c02-fdc1-4eb9-a4d5-eb35dfc930b2",
        "deepnote_cell_type": "markdown"
      }
    },
    {
      "cell_type": "code",
      "metadata": {
        "trusted": true,
        "cell_id": "00002-edc9e304-73da-4bd2-b077-fbc65faac148",
        "deepnote_to_be_reexecuted": false,
        "source_hash": "ce405f50",
        "execution_millis": 1,
        "execution_start": 1616443268015,
        "deepnote_cell_type": "code"
      },
      "source": "import numpy as np \nimport matplotlib.pyplot as plt\nfrom matplotlib import style\nimport math\nfrom scipy.spatial import distance\nimport warnings\nimport sympy as sp\nwarnings.filterwarnings('ignore')",
      "execution_count": 22,
      "outputs": []
    },
    {
      "cell_type": "code",
      "metadata": {
        "tags": [],
        "cell_id": "00003-a9792083-bfd0-470f-97cf-8108f16f6dfe",
        "deepnote_to_be_reexecuted": false,
        "source_hash": "c9053fe",
        "execution_millis": 0,
        "execution_start": 1616448054593,
        "deepnote_cell_type": "code"
      },
      "source": "## The symbols\np2, lamb2, B2, a2, d2, e2, k2 = sp.symbols('p lambda beta alpha d epsilon kappa', real=True, positive=True)\na = 4\nd = 1\ne = 0.05\nlamb = 0.02\nPs = 1-e\nB = 0\nk = math.gamma(1 + 2/a) * math.gamma(1- 2/a)",
      "execution_count": 191,
      "outputs": []
    },
    {
      "cell_type": "code",
      "source": "# test shit\n\n#funktio = p2 * lamb2 * (1 - e2) * sp.log(1 - B2,2)\nf = 1*a2*lamb2*((-sp.log(1-e2)/(sp.pi*d2**2*k2*lamb2*p2))**(a2/2))*(1-e2)\n\nf2 = ((-sp.log(1-e2)/(sp.pi*d2**2*k2*lamb2*p2))**(a2/2)+1)*sp.log(2)*2\n\nf5 = (-sp.log(1-e2)/(sp.pi*d2**2*k2*lamb2*p2))**(a2/2)+1\n\nf3 = lamb2*(1-e2)*sp.log(f5)/sp.log(2)\n\nf4 = -f/f2+f3\nf4\nf6 = sp.integrate(f4, p2)\nf6",
      "metadata": {
        "tags": [],
        "cell_id": "00004-5d224c9d-70ee-466b-8a7f-240708a758b9",
        "deepnote_to_be_reexecuted": true,
        "source_hash": "c915ef8b",
        "execution_millis": 134,
        "execution_start": 1616449229313,
        "deepnote_cell_type": "code"
      },
      "outputs": [
        {
          "output_type": "execute_result",
          "execution_count": 256,
          "data": {
            "text/plain": "                     α                          ⎛              α    ⎞\n                     ─                          ⎜              ─    ⎟\n                     2                          ⎜              2    ⎟\n       ⎛-log(1 - ε) ⎞                           ⎜⎛-log(1 - ε) ⎞     ⎟\n   α⋅λ⋅⎜────────────⎟ ⋅(1 - ε)     λ⋅(1 - ε)⋅log⎜⎜────────────⎟  + 1⎟\n       ⎜    2       ⎟                           ⎜⎜    2       ⎟     ⎟\n       ⎝ π⋅d ⋅κ⋅λ⋅p ⎠                           ⎝⎝ π⋅d ⋅κ⋅λ⋅p ⎠     ⎠\n- ────────────────────────────── + ──────────────────────────────────\n    ⎛              α    ⎞                        log(2)              \n    ⎜              ─    ⎟                                            \n    ⎜              2    ⎟                                            \n    ⎜⎛-log(1 - ε) ⎞     ⎟                                            \n  2⋅⎜⎜────────────⎟  + 1⎟⋅log(2)                                     \n    ⎜⎜    2       ⎟     ⎟                                            \n    ⎝⎝ π⋅d ⋅κ⋅λ⋅p ⎠     ⎠                                            ",
            "image/png": "[encoded data removed]",
            "text/latex": "$\\displaystyle - \\frac{\\alpha \\lambda \\left(- \\frac{\\log{\\left(1 - \\epsilon \\right)}}{\\pi d^{2} \\kappa \\lambda p}\\right)^{\\frac{\\alpha}{2}} \\left(1 - \\epsilon\\right)}{2 \\left(\\left(- \\frac{\\log{\\left(1 - \\epsilon \\right)}}{\\pi d^{2} \\kappa \\lambda p}\\right)^{\\frac{\\alpha}{2}} + 1\\right) \\log{\\left(2 \\right)}} + \\frac{\\lambda \\left(1 - \\epsilon\\right) \\log{\\left(\\left(- \\frac{\\log{\\left(1 - \\epsilon \\right)}}{\\pi d^{2} \\kappa \\lambda p}\\right)^{\\frac{\\alpha}{2}} + 1 \\right)}}{\\log{\\left(2 \\right)}}$"
          },
          "metadata": {}
        }
      ],
      "execution_count": 256
    },
    {
      "cell_type": "code",
      "metadata": {
        "tags": [],
        "cell_id": "00004-149f118e-6ef2-41fb-a932-f8bd5d5decc4",
        "deepnote_to_be_reexecuted": false,
        "source_hash": "d8c7f0ed",
        "execution_millis": 211,
        "execution_start": 1616447223246,
        "deepnote_cell_type": "code"
      },
      "source": "## The function\nsp.init_printing() \n\nfunktio = p2 * lamb2 * sp.exp(-k2*p2*lamb2*sp.pi*d2**2*B2**(2/a2))*sp.log(1+B2)/sp.log(2)\nfunktio\n\n",
      "execution_count": 130,
      "outputs": [
        {
          "output_type": "execute_result",
          "execution_count": 130,
          "data": {
            "text/plain": "         2                    \n         ─                    \n         α  2                 \n     -π⋅β ⋅d ⋅κ⋅λ⋅p           \nλ⋅p⋅ℯ              ⋅log(β + 1)\n──────────────────────────────\n            log(2)            ",
            "image/png": "[encoded data removed]",
            "text/latex": "$\\displaystyle \\frac{\\lambda p e^{- \\pi \\beta^{\\frac{2}{\\alpha}} d^{2} \\kappa \\lambda p} \\log{\\left(\\beta + 1 \\right)}}{\\log{\\left(2 \\right)}}$"
          },
          "metadata": {}
        }
      ]
    },
    {
      "cell_type": "code",
      "metadata": {
        "tags": [],
        "cell_id": "00005-7bd9447b-42e3-4145-9792-110a9402adc1",
        "deepnote_to_be_reexecuted": false,
        "source_hash": "c5fe737a",
        "execution_millis": 406,
        "execution_start": 1616447692057,
        "deepnote_cell_type": "code"
      },
      "source": "## Derivation\n\nfunktio2 = sp.diff(funktio, p2)\n#funktio2 = sp.simplify(funktio2)\nfunktio2\n",
      "execution_count": 150,
      "outputs": [
        {
          "output_type": "execute_result",
          "execution_count": 150,
          "data": {
            "text/plain": "                      2                              2                    \n     2                ─                              ─                    \n     ─                α  2                           α  2                 \n     α  2    2    -π⋅β ⋅d ⋅κ⋅λ⋅p                 -π⋅β ⋅d ⋅κ⋅λ⋅p           \n  π⋅β ⋅d ⋅κ⋅λ ⋅p⋅ℯ              ⋅log(β + 1)   λ⋅ℯ              ⋅log(β + 1)\n- ───────────────────────────────────────── + ────────────────────────────\n                    log(2)                               log(2)           ",
            "image/png": "[encoded data removed]",
            "text/latex": "$\\displaystyle - \\frac{\\pi \\beta^{\\frac{2}{\\alpha}} d^{2} \\kappa \\lambda^{2} p e^{- \\pi \\beta^{\\frac{2}{\\alpha}} d^{2} \\kappa \\lambda p} \\log{\\left(\\beta + 1 \\right)}}{\\log{\\left(2 \\right)}} + \\frac{\\lambda e^{- \\pi \\beta^{\\frac{2}{\\alpha}} d^{2} \\kappa \\lambda p} \\log{\\left(\\beta + 1 \\right)}}{\\log{\\left(2 \\right)}}$"
          },
          "metadata": {}
        }
      ]
    },
    {
      "cell_type": "code",
      "source": "## Numerical solution\n#funktio2 = funktio2.subs(a2, a).subs(d2, d).subs(k2, k).subs(e2, e).subs(lamb2, lamb)\nfunktio3 = sp.solve(funktio2, B2)\nfunktio3[0]\n",
      "metadata": {
        "tags": [],
        "cell_id": "00006-25ac6fc4-cfb5-4639-9a6c-1ad08317f70b",
        "deepnote_to_be_reexecuted": false,
        "source_hash": "1a54dc07",
        "execution_millis": 562,
        "execution_start": 1616447694661,
        "deepnote_cell_type": "code"
      },
      "outputs": [
        {
          "output_type": "execute_result",
          "execution_count": 151,
          "data": {
            "text/plain": "               α\n⎛      1      ⎞ \n⎜─────────────⎟ \n⎝√π⋅d⋅√κ⋅√λ⋅√p⎠ ",
            "image/png": "[encoded data removed]",
            "text/latex": "$\\displaystyle \\left(\\frac{1}{\\sqrt{\\pi} d \\sqrt{\\kappa} \\sqrt{\\lambda} \\sqrt{p}}\\right)^{\\alpha}$"
          },
          "metadata": {}
        }
      ],
      "execution_count": 151
    },
    {
      "cell_type": "code",
      "source": "fun = p2 * lamb2 * (1-e2) * sp.log(1-B2, 2)\nfun = fun.subs(B2, funktio3[0])\nfun = sp.diff(fun, p2)\n\n#fun = funktio.subs(B2, funktio3[0])\n#fun = sp.diff(fun, p2)\n#fun = sp.simplify(fun)\n#sp.solveset(fun,p2)\nfun = fun.subs(a2, a).subs(d2, d).subs(k2, k).subs(e2, e).subs(lamb2, lamb)\nfun = sp.nsolve(fun, p2, )\nfun",
      "metadata": {
        "tags": [],
        "cell_id": "00008-38a7cae6-0dab-49c8-a3e2-2850be5213f5",
        "deepnote_to_be_reexecuted": false,
        "source_hash": "ce8f2b62",
        "execution_millis": 34,
        "execution_start": 1616447804655,
        "deepnote_cell_type": "code"
      },
      "outputs": [
        {
          "output_type": "execute_result",
          "execution_count": 185,
          "data": {
            "text/plain": "1.38494386387969e-25 + 5.1164787534149⋅ⅈ",
            "image/png": "[encoded data removed]",
            "text/latex": "$\\displaystyle 1.38494386387969 \\cdot 10^{-25} + 5.1164787534149 i$"
          },
          "metadata": {}
        }
      ],
      "execution_count": 185
    },
    {
      "cell_type": "code",
      "metadata": {
        "tags": [],
        "cell_id": "00005-9dedacbf-a698-4507-8066-5562942d8ab2",
        "deepnote_to_be_reexecuted": false,
        "source_hash": "f804c555",
        "execution_millis": 75,
        "execution_start": 1616424290085,
        "deepnote_cell_type": "code"
      },
      "source": "#e = 0.05\n#λ = 0.02\n#d = 1\n#a = 4\n#k = math.gamma(1 + 2/a) * math.gamma(1- 2/a)\np, l, B, λ, a, d, e, k = sp.symbols('p l B λ a d e k')\nb = sp.exp(-k*p*λ*sp.pi*d**2*B**(2/a))\na = sp.solve(p*λ*b*sp.log(1+B,2),B)\na\n#c = sp.diff(a, B)\n\n",
      "execution_count": null,
      "outputs": [
        {
          "output_type": "execute_result",
          "execution_count": 37,
          "data": {
            "text/plain": "[0]",
            "image/png": "[encoded data removed]",
            "text/latex": "$\\displaystyle \\left[ 0\\right]$"
          },
          "metadata": {}
        }
      ]
    },
    {
      "cell_type": "code",
      "metadata": {
        "tags": [],
        "cell_id": "00004-69068284-d872-48e6-9203-9118226fbcd0",
        "deepnote_cell_type": "code"
      },
      "source": "",
      "execution_count": null,
      "outputs": []
    },
    {
      "cell_type": "code",
      "metadata": {
        "tags": [],
        "cell_id": "00006-fae0fb61-b0ca-4cd5-99df-995fed9fa329",
        "deepnote_to_be_reexecuted": false,
        "source_hash": "ec3940a5",
        "execution_millis": 48,
        "execution_start": 1616423558322,
        "deepnote_cell_type": "code"
      },
      "source": "sp.init_printing() \np, l, e, B = sp.symbols('p l e B')\na = p*l*(1-e)*sp.log(1+B,2)\na\nb = sp.diff(a,B)\nb",
      "execution_count": null,
      "outputs": [
        {
          "output_type": "execute_result",
          "execution_count": 17,
          "data": {
            "text/plain": " l⋅p⋅(1 - e)  \n──────────────\n(B + 1)⋅log(2)",
            "image/png": "[encoded data removed]",
            "text/latex": "$\\displaystyle \\frac{l p \\left(1 - e\\right)}{\\left(B + 1\\right) \\log{\\left(2 \\right)}}$"
          },
          "metadata": {}
        }
      ]
    },
    {
      "cell_type": "code",
      "metadata": {
        "tags": [],
        "cell_id": "00007-400341b4-826b-40b3-9f34-9ae44606b0bc",
        "deepnote_to_be_reexecuted": false,
        "source_hash": "c964a004",
        "execution_millis": 2027,
        "output_cleared": false,
        "execution_start": 1616442158651,
        "deepnote_cell_type": "code"
      },
      "source": "%reset",
      "outputs": [],
      "execution_count": null
    },
    {
      "cell_type": "markdown",
      "source": "<a style='text-decoration:none;line-height:16px;display:flex;color:#5B5B62;padding:10px;justify-content:end;' href='https://deepnote.com?utm_source=created-in-deepnote-cell&projectId=cc035cc0-996d-4fa3-af0c-6c39ba437636' target=\"_blank\">\n<img style='display:inline;max-height:16px;margin:0px;margin-right:7.5px;' src='data:image/svg+xml;base64,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' > </img>\nCreated in <span style='font-weight:600;margin-left:4px;'>Deepnote</span></a>",
      "metadata": {
        "tags": [],
        "created_in_deepnote_cell": true,
        "deepnote_cell_type": "markdown"
      }
    }
  ],
  "nbformat": 4,
  "nbformat_minor": 2,
  "metadata": {
    "kernelspec": {
      "name": "python36",
      "display_name": "Python 3.6",
      "language": "python"
    },
    "language_info": {
      "mimetype": "text/x-python",
      "nbconvert_exporter": "python",
      "name": "python",
      "pygments_lexer": "ipython3",
      "version": "3.6.6",
      "file_extension": ".py",
      "codemirror_mode": {
        "version": 3,
        "name": "ipython"
      }
    },
    "deepnote_notebook_id": "0b0144a5-339a-4556-a340-fbd597530eef",
    "deepnote": {},
    "deepnote_execution_queue": [
      {
        "cellId": "00004-5d224c9d-70ee-466b-8a7f-240708a758b9",
        "sessionId": "dd54721c-79f8-416e-a01e-ca26bc272742",
        "msgId": "d7e373d0-9144-4a3c-ad99-6d4aba1345ce"
      }
    ]
  }
}