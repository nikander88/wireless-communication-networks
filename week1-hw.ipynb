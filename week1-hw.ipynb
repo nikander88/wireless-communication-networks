{
  "cells": [
    {
      "metadata": {
        "collapsed": true
      },
      "cell_type": "markdown",
      "source": "# BL40A2030 Wireless Communication Networks\n\n## Week 1 - Assignment\n\n### Author: [Write your name]"
    },
    {
      "metadata": {},
      "cell_type": "markdown",
      "source": "### Part I: Theory (40%)\n\n**1. Explain with your own words (1 or 2 paragraphs) the three-layer model presented in the lecture and in [[2]](https://www.ece.rutgers.edu/~marsic/books/CN/book-CN_marsic.pdf).**\n\n**2. Retransmissions via ARQ are important to the system reliability (lower packet error probability) but it has some drawbacks. However, it has some effects in the delay and traffic congestion. Describe with your own words one of the existing trade-offs.** (Hint: If restransmissions are allowed, the packet will stay in *walking* in the network more time).\n\n### Part II: Jupyter NB experiments (60%)\n\n**3. Analyze a queue system similar to the tutorial considering $\\lambda = 3$ and $\\mu = 4$ for 2000 time periods.** \n- Plot a histogram of the queue sizes.\n- Compute the ration of idle periods (0 elements in the queue) in relation to all time periods.\n\n**4. Analyze a queue system similar to the tutorial considering $\\lambda = 4$ and $\\mu = 3$ for 2000 time periods.** \n- Plot a histogram of the queue sizes.\n- Compute the ration of idle periods (0 elements in the queue) in relation to all time periods.\n\n**5. Analyze a queue system similar to the tutorial considering $\\lambda = 3$ and $\\mu = 3$ for 2000 time periods.** \n- Plot a histogram of the queue sizes.\n- Compute the ration of idle periods (0 elements in the queue) in relation to all time periods."
    },
    {
      "metadata": {
        "trusted": true
      },
      "cell_type": "code",
      "source": "",
      "execution_count": null,
      "outputs": []
    }
  ],
  "metadata": {
    "kernelspec": {
      "name": "python36",
      "display_name": "Python 3.6",
      "language": "python"
    },
    "language_info": {
      "mimetype": "text/x-python",
      "nbconvert_exporter": "python",
      "name": "python",
      "pygments_lexer": "ipython3",
      "version": "3.6.6",
      "file_extension": ".py",
      "codemirror_mode": {
        "version": 3,
        "name": "ipython"
      }
    }
  },
  "nbformat": 4,
  "nbformat_minor": 2
}